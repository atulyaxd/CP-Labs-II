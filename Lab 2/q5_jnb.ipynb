{
 "cells": [
  {
   "cell_type": "code",
   "execution_count": 1,
   "metadata": {},
   "outputs": [],
   "source": [
    "import math"
   ]
  },
  {
   "cell_type": "code",
   "execution_count": 2,
   "metadata": {},
   "outputs": [
    {
     "name": "stdout",
     "output_type": "stream",
     "text": [
      "format of eqn: ax**2 + bx + c\n"
     ]
    }
   ],
   "source": [
    "print(\"format of eqn: ax**2 + bx + c\")\n",
    "a = eval(input(\"Enter a: \"))\n",
    "b = eval(input(\"Enter b: \"))\n",
    "c = eval(input(\"Enter c: \"))\n",
    "D = b**2 - 4*a*c"
   ]
  },
  {
   "cell_type": "code",
   "execution_count": 3,
   "metadata": {},
   "outputs": [],
   "source": [
    "if (D > 0):\n",
    "    print(\"Real and Disticnt roots exists.\")\n",
    "    t1 = -b/(2*a)\n",
    "    t2 = (-D**0.5)/(2*a)\n",
    "\n",
    "    print(f\"root 1 = {t1 + t2}\")\n",
    "    print(f\"root 2 - {t1 - t2}\")\n",
    "\n"
   ]
  }
 ],
 "metadata": {
  "kernelspec": {
   "display_name": "Python 3",
   "language": "python",
   "name": "python3"
  },
  "language_info": {
   "codemirror_mode": {
    "name": "ipython",
    "version": 3
   },
   "file_extension": ".py",
   "mimetype": "text/x-python",
   "name": "python",
   "nbconvert_exporter": "python",
   "pygments_lexer": "ipython3",
   "version": "3.13.1"
  }
 },
 "nbformat": 4,
 "nbformat_minor": 2
}
